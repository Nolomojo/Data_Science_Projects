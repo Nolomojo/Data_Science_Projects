{
 "cells": [
  {
   "cell_type": "markdown",
   "metadata": {},
   "source": [
    "# Tips to Remember!\n",
    "\n",
    "<ul>\n",
    "    <li>A .json file is nothing more than a list of dict types containing elements of type dict (nested data) </li>\n",
    "    <ul>\n",
    "        <li>Familiarize yourself with pandas.json_normalize() for nested data</li>\n",
    "    </ul>\n",
    "    <li>Learn to use comments more!!!</li>\n",
    "    <li>Learn Requests package in Python</li> \n",
    "</ul>"
   ]
  },
  {
   "cell_type": "markdown",
   "metadata": {},
   "source": [
    "# Regression (supervised method)\n",
    "\n",
    "Types of regression:\n",
    "\n",
    "<ul>\n",
    "    <li>Simple Linear Regression (fundamental; single-variable regression; line of best fit)</li>\n",
    "    <li>Multiple Linear Regression (finding plane/hyperplane of best fit)</li>\n",
    "    <li>Polynomial Regression (avoid under- and overfitting)</li>\n",
    "    <li>Investigate others</li>\n",
    "</ul>\n",
    "    "
   ]
  },
  {
   "cell_type": "markdown",
   "metadata": {},
   "source": [
    "# k-means (unsupervised method)\n",
    "\n",
    "Some real-world applications:\n",
    "\n",
    "<ul>\n",
    "    <li>customer segmentation</li>\n",
    "    <li>understand what the visitors of a website are trying to accomplish</li>\n",
    "    <li>pattern recognition</li>\n",
    "    <li>data compression</li>\n",
    "</ul>\n",
    "    "
   ]
  },
  {
   "cell_type": "markdown",
   "metadata": {},
   "source": [
    "# Python Exploration\n",
    "\n",
    "<ul>\n",
    "    <li>File path using os python package</li>\n",
    "    </ul>"
   ]
  },
  {
   "cell_type": "code",
   "execution_count": null,
   "metadata": {},
   "outputs": [],
   "source": []
  }
 ],
 "metadata": {
  "kernelspec": {
   "display_name": "Python 3",
   "language": "python",
   "name": "python3"
  },
  "language_info": {
   "codemirror_mode": {
    "name": "ipython",
    "version": 3
   },
   "file_extension": ".py",
   "mimetype": "text/x-python",
   "name": "python",
   "nbconvert_exporter": "python",
   "pygments_lexer": "ipython3",
   "version": "3.7.4"
  }
 },
 "nbformat": 4,
 "nbformat_minor": 4
}
